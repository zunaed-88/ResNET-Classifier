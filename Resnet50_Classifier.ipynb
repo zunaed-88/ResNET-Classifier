{
  "cells": [
    {
      "cell_type": "markdown",
      "metadata": {
        "id": "9d762fa9-3236-411c-af87-b8de53f576a8"
      },
      "source": [
        "<a id='item31'></a>\n"
      ]
    },
    {
      "cell_type": "markdown",
      "metadata": {
        "id": "1da2417d-cf35-4426-933e-0f94ab2704b1"
      },
      "source": [
        "## Import Libraries and Packages\n"
      ]
    },
    {
      "cell_type": "code",
      "metadata": {
        "id": "ae3d4906-1ca0-4da4-8e9d-0318c7cf80f3"
      },
      "outputs": [],
      "source": [
        "from keras.preprocessing.image import ImageDataGenerator"
      ],
      "execution_count": null
    },
    {
      "cell_type": "code",
      "metadata": {
        "id": "4ac3c0af-d7d2-4b86-b360-f43231471500"
      },
      "outputs": [],
      "source": [
        "import keras\n",
        "from keras.models import Sequential\n",
        "from keras.layers import Dense"
      ],
      "execution_count": null
    },
    {
      "cell_type": "code",
      "metadata": {
        "id": "0c1537cb-03a6-4f04-b906-ab9ed76d26ee"
      },
      "outputs": [],
      "source": [
        "from tensorflow.keras.applications import ResNet50\n",
        "from tensorflow.keras.applications.resnet50 import preprocess_input"
      ],
      "execution_count": null
    },
    {
      "cell_type": "markdown",
      "metadata": {
        "id": "9cb5437b-c5e6-4967-8de1-c03c746e2ece"
      },
      "source": [
        "<a id='item32'></a>\n"
      ]
    },
    {
      "cell_type": "markdown",
      "metadata": {
        "id": "a5819d9d-af9c-429b-914c-64eb76e60ce8"
      },
      "source": [
        "## Download Data\n"
      ]
    },
    {
      "cell_type": "code",
      "source": [
        "pip install wget"
      ],
      "metadata": {
        "id": "u9MU_JHBcmNN"
      },
      "execution_count": null,
      "outputs": []
    },
    {
      "cell_type": "code",
      "metadata": {
        "id": "b0ae1a20-2062-4f1b-96ce-6e0674975622"
      },
      "outputs": [],
      "source": [
        "!python -m wget \"https://s3-api.us-geo.objectstorage.softlayer.net/cf-courses-data/CognitiveClass/DL0321EN/data/concrete_data_week3.zip\""
      ],
      "execution_count": null
    },
    {
      "cell_type": "code",
      "source": [
        "import zipfile\n",
        "zip_ref = zipfile.ZipFile('/content/concrete_data_week3.zip' , 'r')\n",
        "zip_ref.extractall('/content')\n",
        "zip_ref.close()"
      ],
      "metadata": {
        "id": "7stIDi0VdpBP"
      },
      "execution_count": null,
      "outputs": []
    },
    {
      "cell_type": "code",
      "metadata": {
        "id": "eadf578c-16b2-425a-885e-1f5202becc12"
      },
      "outputs": [],
      "source": [
        "num_classes = 2\n",
        "\n",
        "image_resize = 224\n",
        "\n",
        "batch_size_training = 100\n",
        "batch_size_validation = 100"
      ],
      "execution_count": null
    },
    {
      "cell_type": "markdown",
      "metadata": {
        "id": "ddea71c8-954b-4a80-9664-dcaa0d589811"
      },
      "source": [
        "<a id='item34'></a>\n"
      ]
    },
    {
      "cell_type": "markdown",
      "metadata": {
        "id": "7a4a47fa-9090-4e6e-8c78-d98b03cfc38d"
      },
      "source": [
        "## Construct ImageDataGenerator Instances\n"
      ]
    },
    {
      "cell_type": "code",
      "metadata": {
        "id": "72a935a2-9f94-42e6-b764-e01de7ac1af9"
      },
      "outputs": [],
      "source": [
        "data_generator = ImageDataGenerator(\n",
        "    preprocessing_function=preprocess_input,\n",
        ")"
      ],
      "execution_count": null
    },
    {
      "cell_type": "code",
      "metadata": {
        "id": "14dd3fdb-bc4e-4af5-8c3b-24292f73dcdf"
      },
      "outputs": [],
      "source": [
        "train_generator = data_generator.flow_from_directory(\n",
        "    'concrete_data_week3/train',\n",
        "    target_size=(image_resize, image_resize),\n",
        "    batch_size=batch_size_training,\n",
        "    class_mode='categorical')"
      ],
      "execution_count": null
    },
    {
      "cell_type": "code",
      "metadata": {
        "id": "3d4b940f-2dc4-44f0-b26e-a04906e0bcfb"
      },
      "outputs": [],
      "source": [
        "## Type your answer here\n",
        "validation_generator = data_generator.flow_from_directory(\n",
        "    'concrete_data_week3/valid',\n",
        "    target_size=(image_resize, image_resize),\n",
        "    batch_size=batch_size_validation,\n",
        "    class_mode='categorical')\n",
        "\n",
        "\n",
        "\n",
        "\n",
        "\n"
      ],
      "execution_count": null
    },
    {
      "cell_type": "markdown",
      "metadata": {
        "id": "c20de955-f27d-461c-8c71-9b0189014f71"
      },
      "source": [
        "## Build, Compile and Fit Model\n"
      ]
    },
    {
      "cell_type": "code",
      "metadata": {
        "id": "e6e60cc3-76f1-4096-ab2f-2ea30f49700c"
      },
      "outputs": [],
      "source": [
        "model = Sequential()"
      ],
      "execution_count": null
    },
    {
      "cell_type": "code",
      "metadata": {
        "id": "391d3165-5d15-407d-bb54-9262b92ddffd"
      },
      "outputs": [],
      "source": [
        "model.add(ResNet50(\n",
        "    include_top=False,\n",
        "    pooling='avg',\n",
        "    weights='imagenet',\n",
        "    ))"
      ],
      "execution_count": null
    },
    {
      "cell_type": "code",
      "metadata": {
        "id": "3d6f3e8a-b880-44cb-96f6-aaa53a23b987"
      },
      "outputs": [],
      "source": [
        "model.add(Dense(num_classes, activation='softmax'))"
      ],
      "execution_count": null
    },
    {
      "cell_type": "code",
      "metadata": {
        "id": "f7a33afa-9d85-47e6-8746-5bf8a6378fae"
      },
      "outputs": [],
      "source": [
        "model.layers"
      ],
      "execution_count": null
    },
    {
      "cell_type": "code",
      "metadata": {
        "id": "93ad07b7-a873-421d-a90f-9f6a8f1644d8"
      },
      "outputs": [],
      "source": [
        "model.layers[0].layers"
      ],
      "execution_count": null
    },
    {
      "cell_type": "code",
      "metadata": {
        "id": "e9ab99d5-d322-41e7-9c67-7da3d02c0b81"
      },
      "outputs": [],
      "source": [
        "model.layers[0].trainable = False"
      ],
      "execution_count": null
    },
    {
      "cell_type": "code",
      "metadata": {
        "id": "80e16337-42ed-4ee6-ab2c-3fa90719d4ff"
      },
      "outputs": [],
      "source": [
        "model.summary()"
      ],
      "execution_count": null
    },
    {
      "cell_type": "code",
      "metadata": {
        "id": "4b9d8738-412b-4b18-afec-ff07dd316960"
      },
      "outputs": [],
      "source": [
        "model.compile(optimizer='adam', loss='categorical_crossentropy', metrics=['accuracy'])"
      ],
      "execution_count": null
    },
    {
      "cell_type": "code",
      "metadata": {
        "id": "d0f49844-0ce6-468a-adc0-17c2d9ddbab5"
      },
      "outputs": [],
      "source": [
        "steps_per_epoch_training = len(train_generator)\n",
        "steps_per_epoch_validation = len(validation_generator)\n",
        "num_epochs = 2"
      ],
      "execution_count": null
    },
    {
      "cell_type": "code",
      "metadata": {
        "id": "0b0dc574-8803-44d7-b3d7-57026a9f74c0"
      },
      "outputs": [],
      "source": [
        "fit_history = model.fit_generator(\n",
        "    train_generator,\n",
        "    steps_per_epoch=steps_per_epoch_training,\n",
        "    epochs=num_epochs,\n",
        "    validation_data=validation_generator,\n",
        "    validation_steps=steps_per_epoch_validation,\n",
        "    verbose=1,\n",
        ")"
      ],
      "execution_count": null
    },
    {
      "cell_type": "code",
      "metadata": {
        "id": "0424beb7-0c3f-4bb3-af40-14e852aaa92f"
      },
      "outputs": [],
      "source": [
        "model.save('classifier_resnet_model.h5')"
      ],
      "execution_count": null
    }
  ],
  "metadata": {
    "kernelspec": {
      "display_name": "Python",
      "language": "python",
      "name": "conda-env-python-py"
    },
    "language_info": {
      "name": ""
    },
    "colab": {
      "provenance": []
    }
  },
  "nbformat": 4,
  "nbformat_minor": 0
}